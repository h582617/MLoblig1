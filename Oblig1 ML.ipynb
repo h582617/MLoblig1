{
 "cells": [
  {
   "cell_type": "markdown",
   "source": [],
   "metadata": {
    "collapsed": false
   },
   "id": "678990953bf83ec"
  },
  {
   "cell_type": "code",
   "execution_count": 44,
   "id": "initial_id",
   "metadata": {
    "collapsed": true,
    "ExecuteTime": {
     "end_time": "2023-10-06T22:40:00.337399500Z",
     "start_time": "2023-10-06T22:39:35.551816900Z"
    }
   },
   "outputs": [
    {
     "ename": "KeyboardInterrupt",
     "evalue": "",
     "output_type": "error",
     "traceback": [
      "\u001B[1;31m---------------------------------------------------------------------------\u001B[0m",
      "\u001B[1;31mKeyboardInterrupt\u001B[0m                         Traceback (most recent call last)",
      "Cell \u001B[1;32mIn[44], line 24\u001B[0m\n\u001B[0;32m     15\u001B[0m training_data \u001B[38;5;241m=\u001B[39m pd\u001B[38;5;241m.\u001B[39mread_csv(training_data_path)\n\u001B[0;32m     17\u001B[0m \u001B[38;5;66;03m# Basic validation & preprocessing steps \u001B[39;00m\n\u001B[0;32m     18\u001B[0m \u001B[38;5;66;03m#if 'length_of_stay' in training_data.columns and 'gender' in training_data.columns:\u001B[39;00m\n\u001B[0;32m     19\u001B[0m \u001B[38;5;66;03m#    training_data = pd.get_dummies(training_data, columns=['gender'], drop_first=True)\u001B[39;00m\n\u001B[1;32m   (...)\u001B[0m\n\u001B[0;32m     22\u001B[0m \n\u001B[0;32m     23\u001B[0m \u001B[38;5;66;03m# Check if 'length_of_stay' and 'gender' columns exist\u001B[39;00m\n\u001B[1;32m---> 24\u001B[0m \u001B[38;5;28;01mif\u001B[39;00m \u001B[38;5;124;43m'\u001B[39;49m\u001B[38;5;124;43mlength_of_stay\u001B[39;49m\u001B[38;5;124;43m'\u001B[39;49m\u001B[43m \u001B[49m\u001B[38;5;129;43;01min\u001B[39;49;00m\u001B[43m \u001B[49m\u001B[43mtraining_data\u001B[49m\u001B[38;5;241;43m.\u001B[39;49m\u001B[43mcolumns\u001B[49m \u001B[38;5;129;01mand\u001B[39;00m \u001B[38;5;124m'\u001B[39m\u001B[38;5;124mgender\u001B[39m\u001B[38;5;124m'\u001B[39m \u001B[38;5;129;01min\u001B[39;00m training_data\u001B[38;5;241m.\u001B[39mcolumns:\n\u001B[0;32m     25\u001B[0m     \u001B[38;5;28mprint\u001B[39m(\u001B[38;5;124m\"\u001B[39m\u001B[38;5;124mFound both \u001B[39m\u001B[38;5;124m'\u001B[39m\u001B[38;5;124mlength_of_stay\u001B[39m\u001B[38;5;124m'\u001B[39m\u001B[38;5;124m and \u001B[39m\u001B[38;5;124m'\u001B[39m\u001B[38;5;124mgender\u001B[39m\u001B[38;5;124m'\u001B[39m\u001B[38;5;124m. Proceeding...\u001B[39m\u001B[38;5;124m\"\u001B[39m)\n\u001B[0;32m     26\u001B[0m     training_data \u001B[38;5;241m=\u001B[39m pd\u001B[38;5;241m.\u001B[39mget_dummies(training_data, columns\u001B[38;5;241m=\u001B[39m[\u001B[38;5;124m'\u001B[39m\u001B[38;5;124mgender\u001B[39m\u001B[38;5;124m'\u001B[39m], drop_first\u001B[38;5;241m=\u001B[39m\u001B[38;5;28;01mTrue\u001B[39;00m)\n",
      "File \u001B[1;32m~\\PycharmProjects\\pythonProject\\venv\\Lib\\site-packages\\pandas\\core\\indexes\\base.py:5334\u001B[0m, in \u001B[0;36mIndex.__contains__\u001B[1;34m(self, key)\u001B[0m\n\u001B[0;32m   5299\u001B[0m \u001B[38;5;28;01mdef\u001B[39;00m \u001B[38;5;21m__contains__\u001B[39m(\u001B[38;5;28mself\u001B[39m, key: Any) \u001B[38;5;241m-\u001B[39m\u001B[38;5;241m>\u001B[39m \u001B[38;5;28mbool\u001B[39m:\n\u001B[0;32m   5300\u001B[0m \u001B[38;5;250m    \u001B[39m\u001B[38;5;124;03m\"\"\"\u001B[39;00m\n\u001B[0;32m   5301\u001B[0m \u001B[38;5;124;03m    Return a boolean indicating whether the provided key is in the index.\u001B[39;00m\n\u001B[0;32m   5302\u001B[0m \n\u001B[1;32m   (...)\u001B[0m\n\u001B[0;32m   5332\u001B[0m \u001B[38;5;124;03m    False\u001B[39;00m\n\u001B[0;32m   5333\u001B[0m \u001B[38;5;124;03m    \"\"\"\u001B[39;00m\n\u001B[1;32m-> 5334\u001B[0m     \u001B[38;5;28;43mhash\u001B[39;49m(key)\n\u001B[0;32m   5335\u001B[0m     \u001B[38;5;28;01mtry\u001B[39;00m:\n\u001B[0;32m   5336\u001B[0m         \u001B[38;5;28;01mreturn\u001B[39;00m key \u001B[38;5;129;01min\u001B[39;00m \u001B[38;5;28mself\u001B[39m\u001B[38;5;241m.\u001B[39m_engine\n",
      "File \u001B[1;32m~\\PycharmProjects\\pythonProject\\venv\\Lib\\site-packages\\pandas\\core\\indexes\\base.py:5334\u001B[0m, in \u001B[0;36mIndex.__contains__\u001B[1;34m(self, key)\u001B[0m\n\u001B[0;32m   5299\u001B[0m \u001B[38;5;28;01mdef\u001B[39;00m \u001B[38;5;21m__contains__\u001B[39m(\u001B[38;5;28mself\u001B[39m, key: Any) \u001B[38;5;241m-\u001B[39m\u001B[38;5;241m>\u001B[39m \u001B[38;5;28mbool\u001B[39m:\n\u001B[0;32m   5300\u001B[0m \u001B[38;5;250m    \u001B[39m\u001B[38;5;124;03m\"\"\"\u001B[39;00m\n\u001B[0;32m   5301\u001B[0m \u001B[38;5;124;03m    Return a boolean indicating whether the provided key is in the index.\u001B[39;00m\n\u001B[0;32m   5302\u001B[0m \n\u001B[1;32m   (...)\u001B[0m\n\u001B[0;32m   5332\u001B[0m \u001B[38;5;124;03m    False\u001B[39;00m\n\u001B[0;32m   5333\u001B[0m \u001B[38;5;124;03m    \"\"\"\u001B[39;00m\n\u001B[1;32m-> 5334\u001B[0m     \u001B[38;5;28;43mhash\u001B[39;49m(key)\n\u001B[0;32m   5335\u001B[0m     \u001B[38;5;28;01mtry\u001B[39;00m:\n\u001B[0;32m   5336\u001B[0m         \u001B[38;5;28;01mreturn\u001B[39;00m key \u001B[38;5;129;01min\u001B[39;00m \u001B[38;5;28mself\u001B[39m\u001B[38;5;241m.\u001B[39m_engine\n",
      "File \u001B[1;32m_pydevd_bundle\\pydevd_cython_win32_311_64.pyx:1179\u001B[0m, in \u001B[0;36m_pydevd_bundle.pydevd_cython_win32_311_64.SafeCallWrapper.__call__\u001B[1;34m()\u001B[0m\n",
      "File \u001B[1;32m_pydevd_bundle\\pydevd_cython_win32_311_64.pyx:620\u001B[0m, in \u001B[0;36m_pydevd_bundle.pydevd_cython_win32_311_64.PyDBFrame.trace_dispatch\u001B[1;34m()\u001B[0m\n",
      "File \u001B[1;32m_pydevd_bundle\\pydevd_cython_win32_311_64.pyx:1095\u001B[0m, in \u001B[0;36m_pydevd_bundle.pydevd_cython_win32_311_64.PyDBFrame.trace_dispatch\u001B[1;34m()\u001B[0m\n",
      "File \u001B[1;32m_pydevd_bundle\\pydevd_cython_win32_311_64.pyx:1053\u001B[0m, in \u001B[0;36m_pydevd_bundle.pydevd_cython_win32_311_64.PyDBFrame.trace_dispatch\u001B[1;34m()\u001B[0m\n",
      "File \u001B[1;32m~\\AppData\\Local\\Programs\\PyCharm Professional\\plugins\\python\\helpers-pro\\jupyter_debug\\pydev_jupyter_plugin.py:169\u001B[0m, in \u001B[0;36mstop\u001B[1;34m(plugin, pydb, frame, event, args, stop_info, arg, step_cmd)\u001B[0m\n\u001B[0;32m    167\u001B[0m     frame \u001B[38;5;241m=\u001B[39m suspend_jupyter(main_debugger, thread, frame, step_cmd)\n\u001B[0;32m    168\u001B[0m     \u001B[38;5;28;01mif\u001B[39;00m frame:\n\u001B[1;32m--> 169\u001B[0m         \u001B[43mmain_debugger\u001B[49m\u001B[38;5;241;43m.\u001B[39;49m\u001B[43mdo_wait_suspend\u001B[49m\u001B[43m(\u001B[49m\u001B[43mthread\u001B[49m\u001B[43m,\u001B[49m\u001B[43m \u001B[49m\u001B[43mframe\u001B[49m\u001B[43m,\u001B[49m\u001B[43m \u001B[49m\u001B[43mevent\u001B[49m\u001B[43m,\u001B[49m\u001B[43m \u001B[49m\u001B[43marg\u001B[49m\u001B[43m)\u001B[49m\n\u001B[0;32m    170\u001B[0m         \u001B[38;5;28;01mreturn\u001B[39;00m \u001B[38;5;28;01mTrue\u001B[39;00m\n\u001B[0;32m    171\u001B[0m \u001B[38;5;28;01mreturn\u001B[39;00m \u001B[38;5;28;01mFalse\u001B[39;00m\n",
      "File \u001B[1;32m~\\AppData\\Local\\Programs\\PyCharm Professional\\plugins\\python\\helpers\\pydev\\pydevd.py:1160\u001B[0m, in \u001B[0;36mPyDB.do_wait_suspend\u001B[1;34m(self, thread, frame, event, arg, send_suspend_message, is_unhandled_exception)\u001B[0m\n\u001B[0;32m   1157\u001B[0m         from_this_thread\u001B[38;5;241m.\u001B[39mappend(frame_id)\n\u001B[0;32m   1159\u001B[0m \u001B[38;5;28;01mwith\u001B[39;00m \u001B[38;5;28mself\u001B[39m\u001B[38;5;241m.\u001B[39m_threads_suspended_single_notification\u001B[38;5;241m.\u001B[39mnotify_thread_suspended(thread_id, stop_reason):\n\u001B[1;32m-> 1160\u001B[0m     \u001B[38;5;28;43mself\u001B[39;49m\u001B[38;5;241;43m.\u001B[39;49m\u001B[43m_do_wait_suspend\u001B[49m\u001B[43m(\u001B[49m\u001B[43mthread\u001B[49m\u001B[43m,\u001B[49m\u001B[43m \u001B[49m\u001B[43mframe\u001B[49m\u001B[43m,\u001B[49m\u001B[43m \u001B[49m\u001B[43mevent\u001B[49m\u001B[43m,\u001B[49m\u001B[43m \u001B[49m\u001B[43marg\u001B[49m\u001B[43m,\u001B[49m\u001B[43m \u001B[49m\u001B[43msuspend_type\u001B[49m\u001B[43m,\u001B[49m\u001B[43m \u001B[49m\u001B[43mfrom_this_thread\u001B[49m\u001B[43m)\u001B[49m\n",
      "File \u001B[1;32m~\\AppData\\Local\\Programs\\PyCharm Professional\\plugins\\python\\helpers\\pydev\\pydevd.py:1175\u001B[0m, in \u001B[0;36mPyDB._do_wait_suspend\u001B[1;34m(self, thread, frame, event, arg, suspend_type, from_this_thread)\u001B[0m\n\u001B[0;32m   1172\u001B[0m             \u001B[38;5;28mself\u001B[39m\u001B[38;5;241m.\u001B[39m_call_mpl_hook()\n\u001B[0;32m   1174\u001B[0m         \u001B[38;5;28mself\u001B[39m\u001B[38;5;241m.\u001B[39mprocess_internal_commands()\n\u001B[1;32m-> 1175\u001B[0m         time\u001B[38;5;241m.\u001B[39msleep(\u001B[38;5;241m0.01\u001B[39m)\n\u001B[0;32m   1177\u001B[0m \u001B[38;5;28mself\u001B[39m\u001B[38;5;241m.\u001B[39mcancel_async_evaluation(get_current_thread_id(thread), \u001B[38;5;28mstr\u001B[39m(\u001B[38;5;28mid\u001B[39m(frame)))\n\u001B[0;32m   1179\u001B[0m \u001B[38;5;66;03m# process any stepping instructions\u001B[39;00m\n",
      "\u001B[1;31mKeyboardInterrupt\u001B[0m: "
     ]
    }
   ],
   "source": [
    "import os\n",
    "#import gradio as gr\n",
    "import pandas as pd\n",
    "import numpy as np\n",
    "from sklearn.ensemble import RandomForestRegressor\n",
    "from sklearn.model_selection import train_test_split\n",
    "import joblib\n",
    "import logging\n",
    "from sklearn.preprocessing import StandardScaler\n",
    "# Setup logging\n",
    "logging.basicConfig(filename='app.log', level=logging.INFO)\n",
    "\n",
    "# Load and split your data\n",
    "training_data_path = 'C:\\\\Users\\\\Kevin\\\\Documents\\\\DAT158\\\\training_data.csv'\n",
    "training_data = pd.read_csv(training_data_path)\n",
    "\n",
    "# Basic validation & preprocessing steps \n",
    "#if 'length_of_stay' in training_data.columns and 'gender' in training_data.columns:\n",
    "#    training_data = pd.get_dummies(training_data, columns=['gender'], drop_first=True)\n",
    "#    X = training_data.drop(columns=['length_of_stay'])\n",
    "#    y = training_data['length_of_stay']\n",
    "\n",
    "# Check if 'length_of_stay' and 'gender' columns exist\n",
    "if 'length_of_stay' in training_data.columns and 'gender' in training_data.columns:\n",
    "    print(\"Found both 'length_of_stay' and 'gender'. Proceeding...\")\n",
    "    training_data = pd.get_dummies(training_data, columns=['gender'], drop_first=True)\n",
    "    X = training_data.drop(columns=['length_of_stay'])\n",
    "    y = training_data['length_of_stay']\n",
    "    \n",
    "    # Drop the 'date' column from the training data\n",
    "    #if 'date' in X.columns:\n",
    "        #X = X.drop(columns=['date'])\n",
    "    \n",
    "    # Split data\n",
    "    X_train, X_val, y_train, y_val = train_test_split(X, y, test_size=0.2, random_state=42)\n",
    "\n",
    "    # Normalize age\n",
    "    scaler = StandardScaler()\n",
    "    X_train.loc[:, 'age'] = scaler.fit_transform(X_train[['age']])\n",
    "    X_val.loc[:, 'age'] = scaler.transform(X_val[['age']])\n",
    "\n",
    "    # Train the model\n",
    "    model = RandomForestRegressor(n_estimators=100, random_state=42)\n",
    "    model.fit(X_train, y_train)\n",
    "    \n",
    "    # Validate your model\n",
    "    val_score = model.score(X_val, y_val)\n",
    "    logging.info(f'Validation score: {val_score}')\n",
    "    print(val_score)\n",
    "    \n",
    "    #filename = \"test_data.csv\"\n",
    "    #os.makedirs(os.path.dirname(filename), exist_ok=True)\n",
    "    \n",
    "    print(\"Current Working Directory:\", os.getcwd())\n",
    "    print(\"Saving to:\", os.path.abspath(training_data_path + 'trained_model.joblib'))\n",
    "\n",
    "    \n",
    "    # Save the model & scaler\n",
    "    joblib.dump(model, training_data_path + 'C:\\\\Users\\\\Kevin\\\\Documents\\\\DAT158\\\\trained_model.joblib') \n",
    "    joblib.dump(scaler, training_data_path + 'scaler.pkl')\n",
    "else:\n",
    "    model = None\n",
    "    scaler = None\n",
    "    #print(\"Did not find both 'length_of_stay' and 'gender'. Cannot proceed.\")\n",
    "\n",
    "    print(\"Current Working Directory:\", os.getcwd())\n",
    "    print(\"Saving to:\", os.path.abspath(training_data_path +\" \"+ 'trained_model.joblib'))\n",
    "\n",
    "def predict_length_of_stay(age, gender, diagnoses):\n",
    "    try:\n",
    "        # Load model & scaler\n",
    "        model = joblib.load('C:\\\\Users\\\\Kevin\\\\Documents\\\\DAT158\\\\trained_model.joblib')\n",
    "        scaler = joblib.load('scaler.pkl')\n",
    "        \n",
    "        # Basic input preprocessing\n",
    "        gender_numeric = 1 if gender == \"Male\" else 0\n",
    "        num_diagnoses = len(diagnoses.split(\",\"))\n",
    "        age = scaler.transform([[age]])[0, 0]\n",
    "        input_feature = np.array([age, gender_numeric, num_diagnoses]).reshape(1, -1)\n",
    "        \n",
    "        # Predict & log\n",
    "        predicted_length_of_stay = model.predict(input_feature)[0]\n",
    "        logging.info(f'Input: {[age, gender, diagnoses]}, Prediction: {predicted_length_of_stay}')\n",
    "        \n",
    "        return f\"Predicted length of stay: {round(predicted_length_of_stay, 2)} days\"\n",
    "    except Exception as e:\n",
    "        logging.error(f'Error: {str(e)}, Input: {[age, gender, diagnoses]}')\n",
    "        return f\"Error: {str(e)}\"\n",
    "   \n",
    "# Gradio interface \n",
    "#iface = gr.Interface(\n",
    "#    fn=predict_length_of_stay,\n",
    "#    inputs=[\n",
    "#        gr.Number(label=\"Age\"),\n",
    "#        gr.Radio([\"Male\", \"Female\"], label=\"Gender\"),\n",
    "#        gr.Textbox(label=\"Diagnoses (comma-separated)\"),\n",
    "#    ],\n",
    "#    outputs=gr.Textbox(label=\"Predicted length of stay (days)\"),\n",
    "#    title=\"Hospital Length of Stay Predictor\",\n",
    "#    description=\"Enter patient data to predict their length of stay in the hospital.\"\n",
    "#)\n",
    "\n",
    "#iface.launch()\n",
    "\n",
    "print(predict_length_of_stay(18,1,\"asthma\"))\n",
    "\n"
   ]
  },
  {
   "cell_type": "code",
   "execution_count": 43,
   "outputs": [],
   "source": [],
   "metadata": {
    "collapsed": false,
    "ExecuteTime": {
     "end_time": "2023-10-06T22:39:28.042882300Z",
     "start_time": "2023-10-06T22:39:28.033457800Z"
    }
   },
   "id": "212ec317723d5c48"
  }
 ],
 "metadata": {
  "kernelspec": {
   "display_name": "Python 3",
   "language": "python",
   "name": "python3"
  },
  "language_info": {
   "codemirror_mode": {
    "name": "ipython",
    "version": 2
   },
   "file_extension": ".py",
   "mimetype": "text/x-python",
   "name": "python",
   "nbconvert_exporter": "python",
   "pygments_lexer": "ipython2",
   "version": "2.7.6"
  }
 },
 "nbformat": 4,
 "nbformat_minor": 5
}
