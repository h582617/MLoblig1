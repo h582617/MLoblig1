{
 "cells": [
  {
   "cell_type": "code",
   "execution_count": 1,
   "id": "initial_id",
   "metadata": {
    "collapsed": true,
    "ExecuteTime": {
     "end_time": "2023-10-13T14:29:50.610156300Z",
     "start_time": "2023-10-13T14:29:47.667637400Z"
    }
   },
   "outputs": [],
   "source": [
    "import pandas as pd\n",
    "import numpy as np\n",
    "from sklearn.ensemble import RandomForestRegressor\n",
    "from sklearn.preprocessing import StandardScaler\n",
    "from sklearn.model_selection import train_test_split\n",
    "import logging\n",
    "\n",
    "\n",
    "# Setup logging\n",
    "logging.basicConfig(filename='app.log', level=logging.INFO)\n",
    "\n",
    "csv_path = 'C:\\\\Users\\\\Kevin\\\\Documents\\\\DAT158\\\\training_data.csv'\n",
    "csv = pd.read_csv(csv_path)\n",
    "\n",
    "#Drop vdate and id\n",
    "csv.drop(columns=['vdate', 'id'], inplace=True)\n",
    "\n",
    "# Drop rows with empty cells\n",
    "csv.replace('', np.nan, inplace=True)\n",
    "csv.dropna(axis=0, how='any', inplace=True)\n",
    "\n",
    "# Normalize gender\n",
    "csv['gender'] = csv['gender'].replace({'M': 0, 'F': 1})\n",
    "\n",
    "# Normalize faculty\n",
    "csv['facid'] = csv['facid'].replace({'A': 0, 'B': 1, 'C': 2, 'D': 3, 'E': 4})\n",
    "\n",
    "# Normalize flags (true,false)\n",
    "for col in csv.columns[2:13]:\n",
    "    csv[col] = csv[col].replace({True: 1, False: 0})\n"
   ]
  },
  {
   "cell_type": "code",
   "execution_count": 2,
   "outputs": [
    {
     "data": {
      "text/plain": "       rcount  gender  dialysisrenalendstage  asthma  irondef  pneum  \\\n0           4       0                      0       0        0      0   \n1           1       0                      0       0        0      0   \n2           1       1                      0       0        0      0   \n3           0       1                      0       0        0      0   \n4           3       1                      0       1        0      0   \n...       ...     ...                    ...     ...      ...    ...   \n69994       0       0                      0       0        0      0   \n69995       0       0                      0       0        0      0   \n69996       2       1                      0       0        1      0   \n69998       0       1                      0       0        0      0   \n69999       0       1                      0       0        0      0   \n\n       substancedependence  psychologicaldisordermajor  depress  psychother  \\\n0                        0                           1        0           0   \n1                        0                           0        0           0   \n2                        0                           0        0           0   \n3                        0                           0        0           0   \n4                        0                           0        0           0   \n...                    ...                         ...      ...         ...   \n69994                    1                           1        0           0   \n69995                    0                           0        0           0   \n69996                    0                           0        0           0   \n69998                    1                           0        0           0   \n69999                    0                           0        0           0   \n\n       ...      sodium     glucose  bloodureanitro  creatinine        bmi  \\\n0      ...  137.150067  148.420532            23.0    0.955051  28.450268   \n1      ...  140.643655  166.718526             9.0    1.385747  29.233048   \n2      ...  138.459305  106.468142            12.0    0.816984  34.295535   \n3      ...  138.667613  144.311236            12.0    1.082725  31.207914   \n4      ...  133.463292  199.728635            12.0    1.081557  30.475797   \n...    ...         ...         ...             ...         ...        ...   \n69994  ...  133.917689  145.908390            34.0    1.236751  29.135903   \n69995  ...  135.920323  166.056315            12.0    0.977975  29.716528   \n69996  ...  135.945521  201.159436            13.0    1.375892  30.265735   \n69998  ...  138.955792  181.016906            10.0    1.563906  30.261142   \n69999  ...  137.305629  123.511373            12.0    1.185529  26.854371   \n\n       pulse  respiration  secondarydiagnosisnonicd9  facid  lengthofstay  \n0         63          6.7                          1      4             7  \n1         81          6.5                          0      1             3  \n2         75          6.5                          1      1             5  \n3         75          6.5                          1      1             2  \n4         89          6.5                          7      3             8  \n...      ...          ...                        ...    ...           ...  \n69994     71          6.5                          1      4             5  \n69995     72          6.5                          0      1             1  \n69996     78          6.3                          1      2             5  \n69998     89          6.5                          1      4             5  \n69999     65          6.5                          3      0             1  \n\n[69154 rows x 25 columns]",
      "text/html": "<div>\n<style scoped>\n    .dataframe tbody tr th:only-of-type {\n        vertical-align: middle;\n    }\n\n    .dataframe tbody tr th {\n        vertical-align: top;\n    }\n\n    .dataframe thead th {\n        text-align: right;\n    }\n</style>\n<table border=\"1\" class=\"dataframe\">\n  <thead>\n    <tr style=\"text-align: right;\">\n      <th></th>\n      <th>rcount</th>\n      <th>gender</th>\n      <th>dialysisrenalendstage</th>\n      <th>asthma</th>\n      <th>irondef</th>\n      <th>pneum</th>\n      <th>substancedependence</th>\n      <th>psychologicaldisordermajor</th>\n      <th>depress</th>\n      <th>psychother</th>\n      <th>...</th>\n      <th>sodium</th>\n      <th>glucose</th>\n      <th>bloodureanitro</th>\n      <th>creatinine</th>\n      <th>bmi</th>\n      <th>pulse</th>\n      <th>respiration</th>\n      <th>secondarydiagnosisnonicd9</th>\n      <th>facid</th>\n      <th>lengthofstay</th>\n    </tr>\n  </thead>\n  <tbody>\n    <tr>\n      <th>0</th>\n      <td>4</td>\n      <td>0</td>\n      <td>0</td>\n      <td>0</td>\n      <td>0</td>\n      <td>0</td>\n      <td>0</td>\n      <td>1</td>\n      <td>0</td>\n      <td>0</td>\n      <td>...</td>\n      <td>137.150067</td>\n      <td>148.420532</td>\n      <td>23.0</td>\n      <td>0.955051</td>\n      <td>28.450268</td>\n      <td>63</td>\n      <td>6.7</td>\n      <td>1</td>\n      <td>4</td>\n      <td>7</td>\n    </tr>\n    <tr>\n      <th>1</th>\n      <td>1</td>\n      <td>0</td>\n      <td>0</td>\n      <td>0</td>\n      <td>0</td>\n      <td>0</td>\n      <td>0</td>\n      <td>0</td>\n      <td>0</td>\n      <td>0</td>\n      <td>...</td>\n      <td>140.643655</td>\n      <td>166.718526</td>\n      <td>9.0</td>\n      <td>1.385747</td>\n      <td>29.233048</td>\n      <td>81</td>\n      <td>6.5</td>\n      <td>0</td>\n      <td>1</td>\n      <td>3</td>\n    </tr>\n    <tr>\n      <th>2</th>\n      <td>1</td>\n      <td>1</td>\n      <td>0</td>\n      <td>0</td>\n      <td>0</td>\n      <td>0</td>\n      <td>0</td>\n      <td>0</td>\n      <td>0</td>\n      <td>0</td>\n      <td>...</td>\n      <td>138.459305</td>\n      <td>106.468142</td>\n      <td>12.0</td>\n      <td>0.816984</td>\n      <td>34.295535</td>\n      <td>75</td>\n      <td>6.5</td>\n      <td>1</td>\n      <td>1</td>\n      <td>5</td>\n    </tr>\n    <tr>\n      <th>3</th>\n      <td>0</td>\n      <td>1</td>\n      <td>0</td>\n      <td>0</td>\n      <td>0</td>\n      <td>0</td>\n      <td>0</td>\n      <td>0</td>\n      <td>0</td>\n      <td>0</td>\n      <td>...</td>\n      <td>138.667613</td>\n      <td>144.311236</td>\n      <td>12.0</td>\n      <td>1.082725</td>\n      <td>31.207914</td>\n      <td>75</td>\n      <td>6.5</td>\n      <td>1</td>\n      <td>1</td>\n      <td>2</td>\n    </tr>\n    <tr>\n      <th>4</th>\n      <td>3</td>\n      <td>1</td>\n      <td>0</td>\n      <td>1</td>\n      <td>0</td>\n      <td>0</td>\n      <td>0</td>\n      <td>0</td>\n      <td>0</td>\n      <td>0</td>\n      <td>...</td>\n      <td>133.463292</td>\n      <td>199.728635</td>\n      <td>12.0</td>\n      <td>1.081557</td>\n      <td>30.475797</td>\n      <td>89</td>\n      <td>6.5</td>\n      <td>7</td>\n      <td>3</td>\n      <td>8</td>\n    </tr>\n    <tr>\n      <th>...</th>\n      <td>...</td>\n      <td>...</td>\n      <td>...</td>\n      <td>...</td>\n      <td>...</td>\n      <td>...</td>\n      <td>...</td>\n      <td>...</td>\n      <td>...</td>\n      <td>...</td>\n      <td>...</td>\n      <td>...</td>\n      <td>...</td>\n      <td>...</td>\n      <td>...</td>\n      <td>...</td>\n      <td>...</td>\n      <td>...</td>\n      <td>...</td>\n      <td>...</td>\n      <td>...</td>\n    </tr>\n    <tr>\n      <th>69994</th>\n      <td>0</td>\n      <td>0</td>\n      <td>0</td>\n      <td>0</td>\n      <td>0</td>\n      <td>0</td>\n      <td>1</td>\n      <td>1</td>\n      <td>0</td>\n      <td>0</td>\n      <td>...</td>\n      <td>133.917689</td>\n      <td>145.908390</td>\n      <td>34.0</td>\n      <td>1.236751</td>\n      <td>29.135903</td>\n      <td>71</td>\n      <td>6.5</td>\n      <td>1</td>\n      <td>4</td>\n      <td>5</td>\n    </tr>\n    <tr>\n      <th>69995</th>\n      <td>0</td>\n      <td>0</td>\n      <td>0</td>\n      <td>0</td>\n      <td>0</td>\n      <td>0</td>\n      <td>0</td>\n      <td>0</td>\n      <td>0</td>\n      <td>0</td>\n      <td>...</td>\n      <td>135.920323</td>\n      <td>166.056315</td>\n      <td>12.0</td>\n      <td>0.977975</td>\n      <td>29.716528</td>\n      <td>72</td>\n      <td>6.5</td>\n      <td>0</td>\n      <td>1</td>\n      <td>1</td>\n    </tr>\n    <tr>\n      <th>69996</th>\n      <td>2</td>\n      <td>1</td>\n      <td>0</td>\n      <td>0</td>\n      <td>1</td>\n      <td>0</td>\n      <td>0</td>\n      <td>0</td>\n      <td>0</td>\n      <td>0</td>\n      <td>...</td>\n      <td>135.945521</td>\n      <td>201.159436</td>\n      <td>13.0</td>\n      <td>1.375892</td>\n      <td>30.265735</td>\n      <td>78</td>\n      <td>6.3</td>\n      <td>1</td>\n      <td>2</td>\n      <td>5</td>\n    </tr>\n    <tr>\n      <th>69998</th>\n      <td>0</td>\n      <td>1</td>\n      <td>0</td>\n      <td>0</td>\n      <td>0</td>\n      <td>0</td>\n      <td>1</td>\n      <td>0</td>\n      <td>0</td>\n      <td>0</td>\n      <td>...</td>\n      <td>138.955792</td>\n      <td>181.016906</td>\n      <td>10.0</td>\n      <td>1.563906</td>\n      <td>30.261142</td>\n      <td>89</td>\n      <td>6.5</td>\n      <td>1</td>\n      <td>4</td>\n      <td>5</td>\n    </tr>\n    <tr>\n      <th>69999</th>\n      <td>0</td>\n      <td>1</td>\n      <td>0</td>\n      <td>0</td>\n      <td>0</td>\n      <td>0</td>\n      <td>0</td>\n      <td>0</td>\n      <td>0</td>\n      <td>0</td>\n      <td>...</td>\n      <td>137.305629</td>\n      <td>123.511373</td>\n      <td>12.0</td>\n      <td>1.185529</td>\n      <td>26.854371</td>\n      <td>65</td>\n      <td>6.5</td>\n      <td>3</td>\n      <td>0</td>\n      <td>1</td>\n    </tr>\n  </tbody>\n</table>\n<p>69154 rows × 25 columns</p>\n</div>"
     },
     "execution_count": 2,
     "metadata": {},
     "output_type": "execute_result"
    }
   ],
   "source": [
    "csv"
   ],
   "metadata": {
    "collapsed": false,
    "ExecuteTime": {
     "end_time": "2023-10-13T14:29:50.666255200Z",
     "start_time": "2023-10-13T14:29:50.610156300Z"
    }
   },
   "id": "d6f810bc02651f0f"
  },
  {
   "cell_type": "code",
   "execution_count": 3,
   "outputs": [
    {
     "name": "stdout",
     "output_type": "stream",
     "text": [
      "Training data: (69084, 24)\n",
      "Test data: (70, 24)\n"
     ]
    }
   ],
   "source": [
    "X = csv[csv.columns[0:-1]]\n",
    "\n",
    "# only length of stay feature\n",
    "y = csv['lengthofstay']\n",
    "\n",
    "# Split data to training and test set\n",
    "X_train, X_test, y_train, y_test = train_test_split(X, y, test_size=0.001, random_state=42)\n",
    "\n",
    "print(f'Training data: {X_train.shape}\\nTest data: {X_test.shape}')"
   ],
   "metadata": {
    "collapsed": false,
    "ExecuteTime": {
     "end_time": "2023-10-13T14:29:50.690560200Z",
     "start_time": "2023-10-13T14:29:50.660304Z"
    }
   },
   "id": "12afcf2fe0a6c339"
  },
  {
   "cell_type": "code",
   "execution_count": 4,
   "outputs": [
    {
     "data": {
      "text/plain": "RandomForestRegressor(random_state=42)",
      "text/html": "<style>#sk-container-id-1 {color: black;}#sk-container-id-1 pre{padding: 0;}#sk-container-id-1 div.sk-toggleable {background-color: white;}#sk-container-id-1 label.sk-toggleable__label {cursor: pointer;display: block;width: 100%;margin-bottom: 0;padding: 0.3em;box-sizing: border-box;text-align: center;}#sk-container-id-1 label.sk-toggleable__label-arrow:before {content: \"▸\";float: left;margin-right: 0.25em;color: #696969;}#sk-container-id-1 label.sk-toggleable__label-arrow:hover:before {color: black;}#sk-container-id-1 div.sk-estimator:hover label.sk-toggleable__label-arrow:before {color: black;}#sk-container-id-1 div.sk-toggleable__content {max-height: 0;max-width: 0;overflow: hidden;text-align: left;background-color: #f0f8ff;}#sk-container-id-1 div.sk-toggleable__content pre {margin: 0.2em;color: black;border-radius: 0.25em;background-color: #f0f8ff;}#sk-container-id-1 input.sk-toggleable__control:checked~div.sk-toggleable__content {max-height: 200px;max-width: 100%;overflow: auto;}#sk-container-id-1 input.sk-toggleable__control:checked~label.sk-toggleable__label-arrow:before {content: \"▾\";}#sk-container-id-1 div.sk-estimator input.sk-toggleable__control:checked~label.sk-toggleable__label {background-color: #d4ebff;}#sk-container-id-1 div.sk-label input.sk-toggleable__control:checked~label.sk-toggleable__label {background-color: #d4ebff;}#sk-container-id-1 input.sk-hidden--visually {border: 0;clip: rect(1px 1px 1px 1px);clip: rect(1px, 1px, 1px, 1px);height: 1px;margin: -1px;overflow: hidden;padding: 0;position: absolute;width: 1px;}#sk-container-id-1 div.sk-estimator {font-family: monospace;background-color: #f0f8ff;border: 1px dotted black;border-radius: 0.25em;box-sizing: border-box;margin-bottom: 0.5em;}#sk-container-id-1 div.sk-estimator:hover {background-color: #d4ebff;}#sk-container-id-1 div.sk-parallel-item::after {content: \"\";width: 100%;border-bottom: 1px solid gray;flex-grow: 1;}#sk-container-id-1 div.sk-label:hover label.sk-toggleable__label {background-color: #d4ebff;}#sk-container-id-1 div.sk-serial::before {content: \"\";position: absolute;border-left: 1px solid gray;box-sizing: border-box;top: 0;bottom: 0;left: 50%;z-index: 0;}#sk-container-id-1 div.sk-serial {display: flex;flex-direction: column;align-items: center;background-color: white;padding-right: 0.2em;padding-left: 0.2em;position: relative;}#sk-container-id-1 div.sk-item {position: relative;z-index: 1;}#sk-container-id-1 div.sk-parallel {display: flex;align-items: stretch;justify-content: center;background-color: white;position: relative;}#sk-container-id-1 div.sk-item::before, #sk-container-id-1 div.sk-parallel-item::before {content: \"\";position: absolute;border-left: 1px solid gray;box-sizing: border-box;top: 0;bottom: 0;left: 50%;z-index: -1;}#sk-container-id-1 div.sk-parallel-item {display: flex;flex-direction: column;z-index: 1;position: relative;background-color: white;}#sk-container-id-1 div.sk-parallel-item:first-child::after {align-self: flex-end;width: 50%;}#sk-container-id-1 div.sk-parallel-item:last-child::after {align-self: flex-start;width: 50%;}#sk-container-id-1 div.sk-parallel-item:only-child::after {width: 0;}#sk-container-id-1 div.sk-dashed-wrapped {border: 1px dashed gray;margin: 0 0.4em 0.5em 0.4em;box-sizing: border-box;padding-bottom: 0.4em;background-color: white;}#sk-container-id-1 div.sk-label label {font-family: monospace;font-weight: bold;display: inline-block;line-height: 1.2em;}#sk-container-id-1 div.sk-label-container {text-align: center;}#sk-container-id-1 div.sk-container {/* jupyter's `normalize.less` sets `[hidden] { display: none; }` but bootstrap.min.css set `[hidden] { display: none !important; }` so we also need the `!important` here to be able to override the default hidden behavior on the sphinx rendered scikit-learn.org. See: https://github.com/scikit-learn/scikit-learn/issues/21755 */display: inline-block !important;position: relative;}#sk-container-id-1 div.sk-text-repr-fallback {display: none;}</style><div id=\"sk-container-id-1\" class=\"sk-top-container\"><div class=\"sk-text-repr-fallback\"><pre>RandomForestRegressor(random_state=42)</pre><b>In a Jupyter environment, please rerun this cell to show the HTML representation or trust the notebook. <br />On GitHub, the HTML representation is unable to render, please try loading this page with nbviewer.org.</b></div><div class=\"sk-container\" hidden><div class=\"sk-item\"><div class=\"sk-estimator sk-toggleable\"><input class=\"sk-toggleable__control sk-hidden--visually\" id=\"sk-estimator-id-1\" type=\"checkbox\" checked><label for=\"sk-estimator-id-1\" class=\"sk-toggleable__label sk-toggleable__label-arrow\">RandomForestRegressor</label><div class=\"sk-toggleable__content\"><pre>RandomForestRegressor(random_state=42)</pre></div></div></div></div></div>"
     },
     "execution_count": 4,
     "metadata": {},
     "output_type": "execute_result"
    }
   ],
   "source": [
    "# Scaler\n",
    "scaler = StandardScaler()\n",
    "\n",
    "# Fit the scaler to the training data\n",
    "X_train_scaled = scaler.fit_transform(X_train)\n",
    "\n",
    "# Transform the test data using the fitted scaler\n",
    "X_test_scaled = scaler.transform(X_test)\n",
    "\n",
    "# Train the model\n",
    "model = RandomForestRegressor(n_estimators=100, random_state=42)\n",
    "model.fit(X_train_scaled, y_train)"
   ],
   "metadata": {
    "collapsed": false,
    "ExecuteTime": {
     "end_time": "2023-10-13T14:32:28.703944900Z",
     "start_time": "2023-10-13T14:29:50.694031200Z"
    }
   },
   "id": "5ff0fca98e60930c"
  },
  {
   "cell_type": "code",
   "execution_count": 5,
   "outputs": [
    {
     "data": {
      "text/plain": "0.9086462831858407"
     },
     "execution_count": 5,
     "metadata": {},
     "output_type": "execute_result"
    }
   ],
   "source": [
    "model.score(X_test_scaled, y_test)"
   ],
   "metadata": {
    "collapsed": false,
    "ExecuteTime": {
     "end_time": "2023-10-13T14:32:28.719322400Z",
     "start_time": "2023-10-13T14:32:28.704441200Z"
    }
   },
   "id": "b1eead4f02c15854"
  },
  {
   "cell_type": "code",
   "execution_count": 6,
   "outputs": [],
   "source": [
    "# Import and fix test_data.csv\n",
    "csv_test = pd.read_csv('C:\\\\Users\\\\Kevin\\\\Documents\\\\DAT158\\\\test_data.csv')\n",
    "csv_index = csv_test['id']\n",
    "csv_test.drop(columns=['id'], inplace=True)\n",
    "csv_test.replace('', np.nan, inplace=True)\n",
    "csv_test.dropna(axis=0, how='any', inplace=True)\n",
    "csv_test['gender'] = csv_test['gender'].replace({'M': 0, 'F': 1}).astype(int)\n",
    "csv_test['facid'] = csv_test['facid'].replace({'A': 0, 'B': 1, 'C': 2, 'D': 3, 'E': 4}).astype(int)\n",
    "for col in csv_test.columns[2:14]:\n",
    "    csv_test[col] = csv_test[col].replace({True: 1, False: 0})\n"
   ],
   "metadata": {
    "collapsed": false,
    "ExecuteTime": {
     "end_time": "2023-10-13T14:32:29.041226Z",
     "start_time": "2023-10-13T14:32:28.722793600Z"
    }
   },
   "id": "fd01ac34f69e0f70"
  },
  {
   "cell_type": "code",
   "execution_count": 7,
   "outputs": [
    {
     "data": {
      "text/plain": "          id  lengthofstay\n0      75721          2.25\n1      80184          2.98\n2      19864          7.74\n3      76699          2.56\n4      92991          3.29\n...      ...           ...\n29995  42648          6.00\n29996  86306          3.98\n29997  45466          5.87\n29998  63724          5.15\n29999  34122          1.00\n\n[30000 rows x 2 columns]",
      "text/html": "<div>\n<style scoped>\n    .dataframe tbody tr th:only-of-type {\n        vertical-align: middle;\n    }\n\n    .dataframe tbody tr th {\n        vertical-align: top;\n    }\n\n    .dataframe thead th {\n        text-align: right;\n    }\n</style>\n<table border=\"1\" class=\"dataframe\">\n  <thead>\n    <tr style=\"text-align: right;\">\n      <th></th>\n      <th>id</th>\n      <th>lengthofstay</th>\n    </tr>\n  </thead>\n  <tbody>\n    <tr>\n      <th>0</th>\n      <td>75721</td>\n      <td>2.25</td>\n    </tr>\n    <tr>\n      <th>1</th>\n      <td>80184</td>\n      <td>2.98</td>\n    </tr>\n    <tr>\n      <th>2</th>\n      <td>19864</td>\n      <td>7.74</td>\n    </tr>\n    <tr>\n      <th>3</th>\n      <td>76699</td>\n      <td>2.56</td>\n    </tr>\n    <tr>\n      <th>4</th>\n      <td>92991</td>\n      <td>3.29</td>\n    </tr>\n    <tr>\n      <th>...</th>\n      <td>...</td>\n      <td>...</td>\n    </tr>\n    <tr>\n      <th>29995</th>\n      <td>42648</td>\n      <td>6.00</td>\n    </tr>\n    <tr>\n      <th>29996</th>\n      <td>86306</td>\n      <td>3.98</td>\n    </tr>\n    <tr>\n      <th>29997</th>\n      <td>45466</td>\n      <td>5.87</td>\n    </tr>\n    <tr>\n      <th>29998</th>\n      <td>63724</td>\n      <td>5.15</td>\n    </tr>\n    <tr>\n      <th>29999</th>\n      <td>34122</td>\n      <td>1.00</td>\n    </tr>\n  </tbody>\n</table>\n<p>30000 rows × 2 columns</p>\n</div>"
     },
     "execution_count": 7,
     "metadata": {},
     "output_type": "execute_result"
    }
   ],
   "source": [
    "# Scaler for test_data.csv\n",
    "scaler_test = StandardScaler()\n",
    "\n",
    "# Fit the scaler to the training data\n",
    "test_scaled = scaler_test.fit_transform(csv_test)\n",
    "\n",
    "# Predict test_data.csv (submission file submission.csv with patient id and length of stay)\n",
    "csv_test_pred = pd.Series(model.predict(test_scaled), name=\"lengthofstay\")\n",
    "result = pd.concat([csv_index, csv_test_pred], axis=1)\n",
    "result"
   ],
   "metadata": {
    "collapsed": false,
    "ExecuteTime": {
     "end_time": "2023-10-13T14:32:29.714298500Z",
     "start_time": "2023-10-13T14:32:29.040729500Z"
    }
   },
   "id": "6de4c01ed1e83c6e"
  },
  {
   "cell_type": "code",
   "execution_count": 8,
   "outputs": [],
   "source": [
    "result.to_csv('submission.csv', index=False)"
   ],
   "metadata": {
    "collapsed": false,
    "ExecuteTime": {
     "end_time": "2023-10-13T14:32:29.800602200Z",
     "start_time": "2023-10-13T14:32:29.716778700Z"
    }
   },
   "id": "b6f38c1d61b72b62"
  },
  {
   "cell_type": "code",
   "execution_count": 9,
   "outputs": [
    {
     "data": {
      "text/plain": "RandomForestRegressor(random_state=42)",
      "text/html": "<style>#sk-container-id-2 {color: black;}#sk-container-id-2 pre{padding: 0;}#sk-container-id-2 div.sk-toggleable {background-color: white;}#sk-container-id-2 label.sk-toggleable__label {cursor: pointer;display: block;width: 100%;margin-bottom: 0;padding: 0.3em;box-sizing: border-box;text-align: center;}#sk-container-id-2 label.sk-toggleable__label-arrow:before {content: \"▸\";float: left;margin-right: 0.25em;color: #696969;}#sk-container-id-2 label.sk-toggleable__label-arrow:hover:before {color: black;}#sk-container-id-2 div.sk-estimator:hover label.sk-toggleable__label-arrow:before {color: black;}#sk-container-id-2 div.sk-toggleable__content {max-height: 0;max-width: 0;overflow: hidden;text-align: left;background-color: #f0f8ff;}#sk-container-id-2 div.sk-toggleable__content pre {margin: 0.2em;color: black;border-radius: 0.25em;background-color: #f0f8ff;}#sk-container-id-2 input.sk-toggleable__control:checked~div.sk-toggleable__content {max-height: 200px;max-width: 100%;overflow: auto;}#sk-container-id-2 input.sk-toggleable__control:checked~label.sk-toggleable__label-arrow:before {content: \"▾\";}#sk-container-id-2 div.sk-estimator input.sk-toggleable__control:checked~label.sk-toggleable__label {background-color: #d4ebff;}#sk-container-id-2 div.sk-label input.sk-toggleable__control:checked~label.sk-toggleable__label {background-color: #d4ebff;}#sk-container-id-2 input.sk-hidden--visually {border: 0;clip: rect(1px 1px 1px 1px);clip: rect(1px, 1px, 1px, 1px);height: 1px;margin: -1px;overflow: hidden;padding: 0;position: absolute;width: 1px;}#sk-container-id-2 div.sk-estimator {font-family: monospace;background-color: #f0f8ff;border: 1px dotted black;border-radius: 0.25em;box-sizing: border-box;margin-bottom: 0.5em;}#sk-container-id-2 div.sk-estimator:hover {background-color: #d4ebff;}#sk-container-id-2 div.sk-parallel-item::after {content: \"\";width: 100%;border-bottom: 1px solid gray;flex-grow: 1;}#sk-container-id-2 div.sk-label:hover label.sk-toggleable__label {background-color: #d4ebff;}#sk-container-id-2 div.sk-serial::before {content: \"\";position: absolute;border-left: 1px solid gray;box-sizing: border-box;top: 0;bottom: 0;left: 50%;z-index: 0;}#sk-container-id-2 div.sk-serial {display: flex;flex-direction: column;align-items: center;background-color: white;padding-right: 0.2em;padding-left: 0.2em;position: relative;}#sk-container-id-2 div.sk-item {position: relative;z-index: 1;}#sk-container-id-2 div.sk-parallel {display: flex;align-items: stretch;justify-content: center;background-color: white;position: relative;}#sk-container-id-2 div.sk-item::before, #sk-container-id-2 div.sk-parallel-item::before {content: \"\";position: absolute;border-left: 1px solid gray;box-sizing: border-box;top: 0;bottom: 0;left: 50%;z-index: -1;}#sk-container-id-2 div.sk-parallel-item {display: flex;flex-direction: column;z-index: 1;position: relative;background-color: white;}#sk-container-id-2 div.sk-parallel-item:first-child::after {align-self: flex-end;width: 50%;}#sk-container-id-2 div.sk-parallel-item:last-child::after {align-self: flex-start;width: 50%;}#sk-container-id-2 div.sk-parallel-item:only-child::after {width: 0;}#sk-container-id-2 div.sk-dashed-wrapped {border: 1px dashed gray;margin: 0 0.4em 0.5em 0.4em;box-sizing: border-box;padding-bottom: 0.4em;background-color: white;}#sk-container-id-2 div.sk-label label {font-family: monospace;font-weight: bold;display: inline-block;line-height: 1.2em;}#sk-container-id-2 div.sk-label-container {text-align: center;}#sk-container-id-2 div.sk-container {/* jupyter's `normalize.less` sets `[hidden] { display: none; }` but bootstrap.min.css set `[hidden] { display: none !important; }` so we also need the `!important` here to be able to override the default hidden behavior on the sphinx rendered scikit-learn.org. See: https://github.com/scikit-learn/scikit-learn/issues/21755 */display: inline-block !important;position: relative;}#sk-container-id-2 div.sk-text-repr-fallback {display: none;}</style><div id=\"sk-container-id-2\" class=\"sk-top-container\"><div class=\"sk-text-repr-fallback\"><pre>RandomForestRegressor(random_state=42)</pre><b>In a Jupyter environment, please rerun this cell to show the HTML representation or trust the notebook. <br />On GitHub, the HTML representation is unable to render, please try loading this page with nbviewer.org.</b></div><div class=\"sk-container\" hidden><div class=\"sk-item\"><div class=\"sk-estimator sk-toggleable\"><input class=\"sk-toggleable__control sk-hidden--visually\" id=\"sk-estimator-id-2\" type=\"checkbox\" checked><label for=\"sk-estimator-id-2\" class=\"sk-toggleable__label sk-toggleable__label-arrow\">RandomForestRegressor</label><div class=\"sk-toggleable__content\"><pre>RandomForestRegressor(random_state=42)</pre></div></div></div></div></div>"
     },
     "execution_count": 9,
     "metadata": {},
     "output_type": "execute_result"
    }
   ],
   "source": [
    "# Train model for app\n",
    "all_diagnoses = csv[csv.columns[2:13]]\n",
    "\n",
    "X_train_app = pd.concat([csv['gender'], all_diagnoses], axis=1)\n",
    "y_train_app = csv.lengthofstay\n",
    "\n",
    "model_app = RandomForestRegressor(n_estimators=100, random_state=42)\n",
    "model_app.fit(X_train_app, y_train_app)"
   ],
   "metadata": {
    "collapsed": false,
    "ExecuteTime": {
     "end_time": "2023-10-13T14:32:32.789502900Z",
     "start_time": "2023-10-13T14:32:29.765883500Z"
    }
   },
   "id": "8835371a442aba81"
  },
  {
   "cell_type": "code",
   "execution_count": 10,
   "outputs": [
    {
     "data": {
      "text/plain": "0        7\n1        3\n2        5\n3        2\n4        8\n        ..\n69994    5\n69995    1\n69996    5\n69998    5\n69999    1\nName: lengthofstay, Length: 69154, dtype: int64"
     },
     "execution_count": 10,
     "metadata": {},
     "output_type": "execute_result"
    }
   ],
   "source": [
    "y_train_app"
   ],
   "metadata": {
    "collapsed": false,
    "ExecuteTime": {
     "end_time": "2023-10-13T14:32:32.798430500Z",
     "start_time": "2023-10-13T14:32:32.791486400Z"
    }
   },
   "id": "1182be677cbe8711"
  },
  {
   "cell_type": "code",
   "execution_count": 11,
   "outputs": [],
   "source": [
    "def predict_length_of_stay(age, gender, diagnoses):\n",
    "    try:\n",
    "        gender_numeric = 0 if gender == \"Male\" else 1\n",
    "        user_diagnoses = diagnoses.split(\",\")\n",
    "        diag_series = np.zeros(shape=(1,12),dtype=int)\n",
    "        list_diag = ['gender'] + all_diagnoses.columns.tolist()\n",
    "        df = pd.DataFrame(data=diag_series, columns=list_diag, dtype=int)\n",
    "\n",
    "        df.loc[0,'gender'] = gender_numeric\n",
    "        for d in user_diagnoses:\n",
    "            if d in df.columns:\n",
    "                df.loc[0,d] = 1\n",
    "                \n",
    "        predicted_length_of_stay = model_app.predict(df)\n",
    "        return f\"Predicted length of stay: {np.round(predicted_length_of_stay, 2)} days\"\n",
    "    except Exception as e:\n",
    "        logging.error(f'Error: {str(e)}, Input: {[age, gender, diagnoses]}')\n",
    "        return f\"Error: {str(e)}\""
   ],
   "metadata": {
    "collapsed": false,
    "ExecuteTime": {
     "end_time": "2023-10-13T14:32:32.809342800Z",
     "start_time": "2023-10-13T14:32:32.798926Z"
    }
   },
   "id": "2ef36cb67972eba3"
  },
  {
   "cell_type": "code",
   "execution_count": 12,
   "outputs": [
    {
     "name": "stdout",
     "output_type": "stream",
     "text": [
      "Running on local URL:  http://127.0.0.1:7860\n",
      "\n",
      "To create a public link, set `share=True` in `launch()`.\n"
     ]
    },
    {
     "data": {
      "text/plain": "<IPython.core.display.HTML object>",
      "text/html": "<div><iframe src=\"http://127.0.0.1:7860/\" width=\"100%\" height=\"500\" allow=\"autoplay; camera; microphone; clipboard-read; clipboard-write;\" frameborder=\"0\" allowfullscreen></iframe></div>"
     },
     "metadata": {},
     "output_type": "display_data"
    },
    {
     "data": {
      "text/plain": ""
     },
     "execution_count": 12,
     "metadata": {},
     "output_type": "execute_result"
    }
   ],
   "source": [
    "# Gradio\n",
    "import gradio as gr\n",
    "\n",
    "iface = gr.Interface(\n",
    "    fn=predict_length_of_stay,\n",
    "    inputs=[\n",
    "        gr.Number(label=\"Age\"),\n",
    "        gr.Radio([\"Male\", \"Female\"], label=\"Gender\"),\n",
    "        gr.Textbox(label=\"Diagnoses (comma-separated)\"),\n",
    "    ],\n",
    "    outputs=gr.Textbox(label=\"Predicted length of stay (days)\"),\n",
    "    title=\"Hospital Length of Stay Predictor\",\n",
    "    description=\"Enter patient data to predict their length of stay in the hospital.\"\n",
    ")\n",
    "\n",
    "iface.launch()"
   ],
   "metadata": {
    "collapsed": false,
    "ExecuteTime": {
     "end_time": "2023-10-13T14:32:35.522961700Z",
     "start_time": "2023-10-13T14:32:32.813310Z"
    }
   },
   "id": "328441606443eb0e"
  }
 ],
 "metadata": {
  "kernelspec": {
   "display_name": "Python 3",
   "language": "python",
   "name": "python3"
  },
  "language_info": {
   "codemirror_mode": {
    "name": "ipython",
    "version": 2
   },
   "file_extension": ".py",
   "mimetype": "text/x-python",
   "name": "python",
   "nbconvert_exporter": "python",
   "pygments_lexer": "ipython2",
   "version": "2.7.6"
  }
 },
 "nbformat": 4,
 "nbformat_minor": 5
}
