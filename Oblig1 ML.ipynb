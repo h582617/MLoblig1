{
 "cells": [
  {
   "cell_type": "code",
   "execution_count": 29,
   "id": "initial_id",
   "metadata": {
    "collapsed": true,
    "ExecuteTime": {
     "end_time": "2023-10-10T13:51:39.692719400Z",
     "start_time": "2023-10-10T13:49:17.269028100Z"
    }
   },
   "outputs": [
    {
     "name": "stdout",
     "output_type": "stream",
     "text": [
      "0.9204895233115795\n",
      "Running on local URL:  http://127.0.0.1:7869\n",
      "\n",
      "To create a public link, set `share=True` in `launch()`.\n"
     ]
    },
    {
     "data": {
      "text/plain": "<IPython.core.display.HTML object>",
      "text/html": "<div><iframe src=\"http://127.0.0.1:7869/\" width=\"100%\" height=\"500\" allow=\"autoplay; camera; microphone; clipboard-read; clipboard-write;\" frameborder=\"0\" allowfullscreen></iframe></div>"
     },
     "metadata": {},
     "output_type": "display_data"
    },
    {
     "data": {
      "text/plain": ""
     },
     "execution_count": 29,
     "metadata": {},
     "output_type": "execute_result"
    }
   ],
   "source": [
    "import gradio as gr\n",
    "import pandas as pd\n",
    "import numpy as np\n",
    "from sklearn.ensemble import RandomForestRegressor\n",
    "from sklearn.model_selection import train_test_split\n",
    "import joblib\n",
    "import logging\n",
    "from sklearn.preprocessing import StandardScaler\n",
    "\n",
    "# Setup logging\n",
    "logging.basicConfig(filename='app.log', level=logging.INFO)\n",
    "\n",
    "# Load and split your data\n",
    "training_data_path = 'C:\\\\Users\\\\Kevin\\\\Documents\\\\DAT158\\\\training_data.csv'\n",
    "training_data = pd.read_csv(training_data_path)\n",
    "training_data['gender'] = training_data['gender'].replace({'M': 0, 'F': 1})\n",
    "training_data['facid'] = training_data['facid'].replace({'A': 0, 'B': 1, 'C': 2, 'D': 3, 'E': 4})\n",
    "pd.set_option('display.max_columns', None)\n",
    "training_data = training_data.dropna()\n",
    "training_data.head()\n",
    "\n",
    "#Drop the 'date' column from the training data\n",
    "if 'vdate' in training_data.columns:\n",
    "    training_data.drop(columns=['vdate'], inplace=True)\n",
    "X = training_data.drop(columns=['lengthofstay'])\n",
    "y = training_data['lengthofstay'] \n",
    "\n",
    "    # Split data\n",
    "X_train, X_val, y_train, y_val = train_test_split(X, y, test_size=0.2, random_state=42)\n",
    "X_train.head() \n",
    "     \n",
    "    # \n",
    "scaler = StandardScaler()\n",
    "scaler.fit(X_train)\n",
    "#X_train['secondarydiagnosisnonicd9'] = scaler.fit_transform(X_train[['secondarydiagnosisnonicd9']])\n",
    "#X_val['secondarydiagnosisnonicd9'] = scaler.transform(X_val[['secondarydiagnosisnonicd9']])\n",
    "\n",
    "    # Train the model\n",
    "model = RandomForestRegressor(n_estimators=100, random_state=42)\n",
    "model.fit(X_train, y_train)\n",
    "    \n",
    "    # Validate your model\n",
    "val_score = model.score(X_val, y_val)\n",
    "logging.info(f'Validation score: {val_score}')\n",
    "print(val_score)\n",
    "        \n",
    "    # Save the model & scaler\n",
    "joblib.dump(model, 'C:\\\\Users\\\\Kevin\\\\Documents\\\\DAT158\\\\trained_model.joblib') \n",
    "joblib.dump(scaler, 'scaler.pkl')\n",
    "    \n",
    "    \n",
    "def predict_length_of_stay(age, gender, diagnoses):\n",
    "    try:\n",
    "        # Load model & scaler\n",
    "        model = joblib.load('C:\\\\Users\\\\Kevin\\\\Documents\\\\DAT158\\\\trained_model.joblib')\n",
    "        scaler = joblib.load('scaler.pkl')\n",
    "        \n",
    "        # Basic input preprocessing\n",
    "        gender_numeric = 1 if gender == \"Male\" else 0\n",
    "        num_diagnoses = len(diagnoses.split(\",\"))\n",
    "        age = scaler.transform([[age]])[0, 0]\n",
    "        input_feature = np.array([age, gender_numeric, num_diagnoses]).reshape(1, -1)\n",
    "        \n",
    "        # Predict & log\n",
    "        predicted_length_of_stay = model.predict(input_feature)[0]\n",
    "        logging.info(f'Input: {[age, gender, diagnoses]}, Prediction: {predicted_length_of_stay}')\n",
    "        \n",
    "        return f\"Predicted length of stay: {round(predicted_length_of_stay, 2)} days\"\n",
    "    except Exception as e:\n",
    "        logging.error(f'Error: {str(e)}, Input: {[age, gender, diagnoses]}')\n",
    "        return f\"Error: {str(e)}\"\n",
    "   \n",
    "# Gradio interface \n",
    "iface = gr.Interface(\n",
    "    fn=predict_length_of_stay,\n",
    "    inputs=[\n",
    "        gr.Number(label=\"Age\"),\n",
    "        gr.Radio([\"Male\", \"Female\"], label=\"Gender\"),\n",
    "        gr.Textbox(label=\"Diagnoses (comma-separated)\"),\n",
    "    ],\n",
    "    outputs=gr.Textbox(label=\"Predicted length of stay (days)\"),\n",
    "    title=\"Hospital Length of Stay Predictor\",\n",
    "    description=\"Enter patient data to predict their length of stay in the hospital.\"\n",
    ")\n",
    "\n",
    "iface.launch()\n"
   ]
  },
  {
   "cell_type": "code",
   "execution_count": null,
   "outputs": [],
   "source": [],
   "metadata": {
    "collapsed": false
   },
   "id": "2c8b20595f1665fc"
  }
 ],
 "metadata": {
  "kernelspec": {
   "display_name": "Python 3",
   "language": "python",
   "name": "python3"
  },
  "language_info": {
   "codemirror_mode": {
    "name": "ipython",
    "version": 2
   },
   "file_extension": ".py",
   "mimetype": "text/x-python",
   "name": "python",
   "nbconvert_exporter": "python",
   "pygments_lexer": "ipython2",
   "version": "2.7.6"
  }
 },
 "nbformat": 4,
 "nbformat_minor": 5
}
